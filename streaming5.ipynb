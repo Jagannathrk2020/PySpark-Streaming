{
 "cells": [
  {
   "cell_type": "code",
   "execution_count": 1,
   "metadata": {},
   "outputs": [],
   "source": [
    "from pyspark.sql import SparkSession\n",
    "from pyspark import SparkConf, SparkContext\n",
    "from pyspark.streaming import StreamingContext"
   ]
  },
  {
   "cell_type": "code",
   "execution_count": 3,
   "metadata": {},
   "outputs": [],
   "source": [
    "# conf = SparkConf()\n",
    "# conf.set(\"spark.master\",\"local[2]\")\n",
    "# conf.set(\"spark.app.name\",\"sparkapp\")\n",
    "# sc = SparkContext(conf = conf)\n",
    "# sc"
   ]
  },
  {
   "cell_type": "code",
   "execution_count": 4,
   "metadata": {},
   "outputs": [
    {
     "data": {
      "text/plain": [
       "<pyspark.sql.context.SQLContext at 0x7f746c378ef0>"
      ]
     },
     "execution_count": 4,
     "metadata": {},
     "output_type": "execute_result"
    }
   ],
   "source": [
    "#windowing in spark SQL\n",
    "from pyspark.sql import SQLContext\n",
    "sqlc = SQLContext(sc)\n",
    "sqlc"
   ]
  },
  {
   "cell_type": "code",
   "execution_count": 10,
   "metadata": {},
   "outputs": [
    {
     "data": {
      "text/plain": [
       "<pyspark.streaming.context.StreamingContext at 0x7f7468c52828>"
      ]
     },
     "execution_count": 10,
     "metadata": {},
     "output_type": "execute_result"
    }
   ],
   "source": [
    "ssc = StreamingContext(sparkContext=sc,batchDuration=15)\n",
    "ssc\n",
    "#batchDuration is by default is treated as slide duration.\n",
    "#one batch will be prepared for very 15 seconds"
   ]
  },
  {
   "cell_type": "code",
   "execution_count": 11,
   "metadata": {},
   "outputs": [],
   "source": [
    "# dstream1 = ssc.socketTextStream(\"localhost\",port = 1234)\n",
    "# dstream2 = dstream1.window(windowDuration=45,slideDuration=30)\n",
    "# dstream2.pprint()\n",
    "# #Computation will be done for every 30 seconds\n",
    "# # how many batches will be computed for every slide, window size= 45 \n",
    "# #both window size and slideDuration must be the multiples of batchDuration."
   ]
  },
  {
   "cell_type": "code",
   "execution_count": 12,
   "metadata": {},
   "outputs": [],
   "source": [
    "#SQL operations\n",
    "#we can create a data frame out of a RDD \n",
    "#We need an operation that will be directly applied to the underlying RDDs of the Dstream\n",
    "\n",
    "def f(rdd):\n",
    "    rdd2 = rdd.flatMap(lambda x:x.split(\" \")).map(lambda x:(x,1)).reduceByKey(lambda x,y:x+y)\n",
    "    df = rdd2.toDF([\"word\",\"count\"])\n",
    "    df.show()\n",
    "    df.write.format(\"csv\").save(\"file:///home/ubuntu/streamdfout\")\n",
    "\n",
    "\n",
    "ds1 = ssc.socketTextStream(\"localhost\",port = 1234)\n",
    "ds2 = ds1.foreachRDD(f)\n",
    "ds2\n",
    "#foreachRDD is an action."
   ]
  },
  {
   "cell_type": "code",
   "execution_count": 13,
   "metadata": {},
   "outputs": [
    {
     "name": "stdout",
     "output_type": "stream",
     "text": [
      "+--------+-----+\n",
      "|    word|count|\n",
      "+--------+-----+\n",
      "|sdklgksd|    1|\n",
      "|   sgosg|    1|\n",
      "|       s|    1|\n",
      "|    sgls|    1|\n",
      "|      gs|    1|\n",
      "|      lg|    1|\n",
      "|     sgs|    1|\n",
      "|      sg|    2|\n",
      "|  sdljgs|    1|\n",
      "|  gsjodg|    1|\n",
      "|    gsgs|    1|\n",
      "+--------+-----+\n",
      "\n",
      "+----+-----+\n",
      "|word|count|\n",
      "+----+-----+\n",
      "|   g|    1|\n",
      "|   s|    1|\n",
      "+----+-----+\n",
      "\n"
     ]
    }
   ],
   "source": [
    "ssc.start()"
   ]
  },
  {
   "cell_type": "code",
   "execution_count": 14,
   "metadata": {},
   "outputs": [],
   "source": [
    "ssc.stop(False)"
   ]
  },
  {
   "cell_type": "code",
   "execution_count": 27,
   "metadata": {},
   "outputs": [
    {
     "name": "stdout",
     "output_type": "stream",
     "text": [
      "[[1, 2, 3], [4, 5, 6]]\n"
     ]
    },
    {
     "data": {
      "text/plain": [
       "[21, 22, 23, 24, 25, 26]"
      ]
     },
     "execution_count": 27,
     "metadata": {},
     "output_type": "execute_result"
    }
   ],
   "source": [
    "rdd = sc.parallelize([1,2,3,4,5,6])\n",
    "print(rdd.glom().collect())\n",
    "rdd.map(lambda x:x+20).collect()\n",
    "#rdd is made up of partitions\n",
    "\n",
    "rdd.mapPartitions(lambda x:)"
   ]
  }
 ],
 "metadata": {
  "kernelspec": {
   "display_name": "Python 3",
   "language": "python",
   "name": "python3"
  },
  "language_info": {
   "codemirror_mode": {
    "name": "ipython",
    "version": 3
   },
   "file_extension": ".py",
   "mimetype": "text/x-python",
   "name": "python",
   "nbconvert_exporter": "python",
   "pygments_lexer": "ipython3",
   "version": "3.7.3"
  }
 },
 "nbformat": 4,
 "nbformat_minor": 2
}
