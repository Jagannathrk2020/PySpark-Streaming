{
 "cells": [
  {
   "cell_type": "code",
   "execution_count": 1,
   "metadata": {},
   "outputs": [],
   "source": [
    "from pyspark.sql import SparkSession\n",
    "from pyspark import SparkConf, SparkContext\n",
    "from pyspark.streaming import StreamingContext"
   ]
  },
  {
   "cell_type": "code",
   "execution_count": 3,
   "metadata": {},
   "outputs": [],
   "source": [
    "# conf = SparkConf()\n",
    "# conf.set(\"spark.master\",\"local[2]\")\n",
    "# conf.set(\"spark.app.name\",\"sparkapp\")\n",
    "# sc = SparkContext(conf = conf)\n",
    "# sc"
   ]
  },
  {
   "cell_type": "code",
   "execution_count": 4,
   "metadata": {},
   "outputs": [
    {
     "data": {
      "text/plain": [
       "<pyspark.streaming.context.StreamingContext at 0x7fd1c01eeeb8>"
      ]
     },
     "execution_count": 4,
     "metadata": {},
     "output_type": "execute_result"
    }
   ],
   "source": [
    "# ssc = StreamingContext(sparkContext=sc,batchDuration=20)\n",
    "# ssc"
   ]
  },
  {
   "cell_type": "code",
   "execution_count": 6,
   "metadata": {},
   "outputs": [
    {
     "data": {
      "text/plain": [
       "<pyspark.sql.context.SQLContext at 0x7fd1c01eee10>"
      ]
     },
     "execution_count": 6,
     "metadata": {},
     "output_type": "execute_result"
    }
   ],
   "source": [
    "#windowing in spark SQL\n",
    "from pyspark.sql import SQLContext\n",
    "sqlc = SQLContext(sc)\n",
    "sqlc"
   ]
  },
  {
   "cell_type": "code",
   "execution_count": 16,
   "metadata": {},
   "outputs": [
    {
     "name": "stdout",
     "output_type": "stream",
     "text": [
      "+---+-----+-----+\n",
      "| id|sales|month|\n",
      "+---+-----+-----+\n",
      "|  1| 2300|    1|\n",
      "|  2| 3000|    1|\n",
      "|  1| 1000|    2|\n",
      "|  2| 1500|    2|\n",
      "|  2| 4200|    3|\n",
      "|  3| 2000|    1|\n",
      "|  2|  500|    4|\n",
      "|  3| 2000|    2|\n",
      "+---+-----+-----+\n",
      "\n",
      "+---+-----+-----+-------+\n",
      "| id|sales|month|avgsale|\n",
      "+---+-----+-----+-------+\n",
      "|  1| 2300|    1| 2300.0|\n",
      "|  1| 1000|    2| 1650.0|\n",
      "|  3| 2000|    1| 2000.0|\n",
      "|  3| 2000|    2| 2000.0|\n",
      "|  2| 3000|    1| 3000.0|\n",
      "|  2| 1500|    2| 2250.0|\n",
      "|  2| 4200|    3| 2900.0|\n",
      "|  2|  500|    4| 2300.0|\n",
      "+---+-----+-----+-------+\n",
      "\n"
     ]
    }
   ],
   "source": [
    "d1 = sqlc.createDataFrame([(1,2300,1),(2,3000,1),(1,1000,2),(2,1500,2),(2,4200,3),(3,2000,1),(2,500,4),(3,2000,2)],[\"id\",\"sales\",\"month\"])\n",
    "d1.show()\n",
    "d1.createOrReplaceTempView(\"t1\")\n",
    "# sqlc.sql(\"select id,max(sales),min(sales) from t1 group by id\").show()\n",
    "'''\n",
    "2300-->2300\n",
    "1000-->2300+1000/2=1650\n",
    "2000-->2300+1000+2000/3=1780\n",
    "\n",
    "For every month, what is the average sale\n",
    "'''\n",
    "sqlc.sql(\"Select id,sales,month,avg(sales) over(partition by id order by month) as avgsale from t1\").show()"
   ]
  },
  {
   "cell_type": "code",
   "execution_count": null,
   "metadata": {},
   "outputs": [],
   "source": [
    "'''\n",
    "score\n",
    "\n",
    "for every over, i need agg (avg,total) of the runs \n",
    "1 over-->3 -->3\n",
    "2 over-->4-->3.5\n",
    "3 over-->2-->3\n",
    "4 over -->5-->3.4\n",
    "\n",
    "for every , \n",
    "'''"
   ]
  },
  {
   "cell_type": "code",
   "execution_count": 33,
   "metadata": {},
   "outputs": [
    {
     "data": {
      "text/plain": [
       "<pyspark.streaming.context.StreamingContext at 0x7fd1ab38d2b0>"
      ]
     },
     "execution_count": 33,
     "metadata": {},
     "output_type": "execute_result"
    }
   ],
   "source": [
    "ssc = StreamingContext(sparkContext=sc,batchDuration=20)\n",
    "ssc"
   ]
  },
  {
   "cell_type": "code",
   "execution_count": 34,
   "metadata": {},
   "outputs": [],
   "source": [
    "dstream1 = ssc.socketTextStream(\"localhost\",12345)\n",
    "dstream2 = dstream1.window(windowDuration=60)\n",
    "'''\n",
    "windowduration must be always a multiple of batch duration\n",
    "number of multiples of batch duration define window size\n",
    "'''\n",
    "dstream3 = dstream2.flatMap(lambda x:x.split(\" \")).map(lambda x:(x,1)).reduceByKey(lambda x,y:x+y)\n",
    "dstream3.pprint()"
   ]
  },
  {
   "cell_type": "code",
   "execution_count": 37,
   "metadata": {},
   "outputs": [],
   "source": [
    "# ssc.start()"
   ]
  },
  {
   "cell_type": "code",
   "execution_count": 36,
   "metadata": {},
   "outputs": [],
   "source": [
    "ssc.stop(False)"
   ]
  }
 ],
 "metadata": {
  "kernelspec": {
   "display_name": "Python 3",
   "language": "python",
   "name": "python3"
  },
  "language_info": {
   "codemirror_mode": {
    "name": "ipython",
    "version": 3
   },
   "file_extension": ".py",
   "mimetype": "text/x-python",
   "name": "python",
   "nbconvert_exporter": "python",
   "pygments_lexer": "ipython3",
   "version": "3.7.3"
  }
 },
 "nbformat": 4,
 "nbformat_minor": 2
}
