{
 "cells": [
  {
   "cell_type": "code",
   "execution_count": 1,
   "metadata": {},
   "outputs": [],
   "source": [
    "from pyspark.sql import SparkSession\n",
    "from pyspark import SparkConf, SparkContext\n",
    "from pyspark.streaming import StreamingContext"
   ]
  },
  {
   "cell_type": "code",
   "execution_count": 3,
   "metadata": {},
   "outputs": [],
   "source": [
    "# conf = SparkConf()\n",
    "# conf.set(\"spark.master\",\"local[2]\")\n",
    "# conf.set(\"spark.app.name\",\"sparkapp\")\n",
    "# sc = SparkContext(conf = conf)\n",
    "# sc"
   ]
  },
  {
   "cell_type": "code",
   "execution_count": 16,
   "metadata": {},
   "outputs": [
    {
     "data": {
      "text/plain": [
       "<pyspark.sql.context.SQLContext at 0x7fa874281da0>"
      ]
     },
     "execution_count": 16,
     "metadata": {},
     "output_type": "execute_result"
    }
   ],
   "source": [
    "#windowing in spark SQL\n",
    "from pyspark.sql import SQLContext\n",
    "sqlc = SQLContext(sc)\n",
    "sqlc"
   ]
  },
  {
   "cell_type": "code",
   "execution_count": 23,
   "metadata": {},
   "outputs": [
    {
     "data": {
      "text/plain": [
       "<pyspark.streaming.context.StreamingContext at 0x7fa874189240>"
      ]
     },
     "execution_count": 23,
     "metadata": {},
     "output_type": "execute_result"
    },
    {
     "name": "stdout",
     "output_type": "stream",
     "text": [
      "-------------------------------------------\n",
      "Time: 2019-08-20 02:42:00\n",
      "-------------------------------------------\n",
      "\n"
     ]
    }
   ],
   "source": [
    "ssc = StreamingContext(sparkContext=sc,batchDuration=15)\n",
    "ssc\n",
    "#batchDuration is by default is treated as slide duration.\n",
    "#one batch will be prepared for very 15 seconds"
   ]
  },
  {
   "cell_type": "code",
   "execution_count": 6,
   "metadata": {},
   "outputs": [],
   "source": [
    "import twitter\n",
    "api_auth = twitter.Api(consumer_key='NFdepyaFSJiEcLZr72QlEeejE',\n",
    "consumer_secret='63BYnnRZopkEPw8YH28MrE28WEY3B89hgyoMdQWjPfRtqiQhfD',\n",
    "access_token_key='976856153912201228-fu5upI5jkml1QytOe4nupFSmCaT4V7k',\n",
    "access_token_secret='jyg4njgsexZ2jJM4TBFhyBzBYCA14VEoU9GgWF0T6zkGw')"
   ]
  },
  {
   "cell_type": "code",
   "execution_count": 10,
   "metadata": {},
   "outputs": [],
   "source": [
    "# print(api_auth.VerifyCredentials())"
   ]
  },
  {
   "cell_type": "code",
   "execution_count": null,
   "metadata": {},
   "outputs": [],
   "source": [
    "# print(api_auth.GetSearch(\"modi\"))\n",
    "import json\n",
    "import time\n",
    "#Load the tweets into a directory for every 20 seconds and load all the tweets as a file\n",
    "\n",
    "fileno = 0\n",
    "while(1):\n",
    "    file = open(\"/home/ubuntu/twitterfiles/tweets_\"+(str)(fileno),\"w\")\n",
    "    tweets = api_auth.GetSearch(\"modi\")\n",
    "    for tweet in tweets:    \n",
    "        tweet_json = json.loads((str)(tweet))\n",
    "        file.write((str)(tweet_json))\n",
    "        file.write(\"\\n\")\n",
    "    fileno = fileno+1 \n",
    "    time.sleep(20)"
   ]
  },
  {
   "cell_type": "code",
   "execution_count": 24,
   "metadata": {},
   "outputs": [],
   "source": [
    "twitter_stream = ssc.textFileStream(\"/home/ubuntu/twitterfiles\")\n",
    "\n",
    "def f1(rdd):\n",
    "    rdd.count()\n",
    "    \n",
    "    \n",
    "twitter_stream.foreachRDD(f1)"
   ]
  },
  {
   "cell_type": "code",
   "execution_count": null,
   "metadata": {},
   "outputs": [],
   "source": [
    "ssc.start()"
   ]
  },
  {
   "cell_type": "code",
   "execution_count": 32,
   "metadata": {},
   "outputs": [
    {
     "name": "stdout",
     "output_type": "stream",
     "text": [
      "-------------------------------------------\n",
      "Time: 2019-08-20 02:42:45\n",
      "-------------------------------------------\n",
      "\n"
     ]
    }
   ],
   "source": [
    "ssc.stop(False)"
   ]
  }
 ],
 "metadata": {
  "kernelspec": {
   "display_name": "Python 3",
   "language": "python",
   "name": "python3"
  },
  "language_info": {
   "codemirror_mode": {
    "name": "ipython",
    "version": 3
   },
   "file_extension": ".py",
   "mimetype": "text/x-python",
   "name": "python",
   "nbconvert_exporter": "python",
   "pygments_lexer": "ipython3",
   "version": "3.7.3"
  }
 },
 "nbformat": 4,
 "nbformat_minor": 2
}
